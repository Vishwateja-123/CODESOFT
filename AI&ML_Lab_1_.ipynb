{
  "nbformat": 4,
  "nbformat_minor": 0,
  "metadata": {
    "colab": {
      "provenance": [],
      "authorship_tag": "ABX9TyNrkPVSv7FHEYhAnFHlePlc",
      "include_colab_link": true
    },
    "kernelspec": {
      "name": "python3",
      "display_name": "Python 3"
    },
    "language_info": {
      "name": "python"
    }
  },
  "cells": [
    {
      "cell_type": "markdown",
      "metadata": {
        "id": "view-in-github",
        "colab_type": "text"
      },
      "source": [
        "<a href=\"https://colab.research.google.com/github/Vishwateja-123/CODESOFT/blob/main/AI%26ML_Lab_1_.ipynb\" target=\"_parent\"><img src=\"https://colab.research.google.com/assets/colab-badge.svg\" alt=\"Open In Colab\"/></a>"
      ]
    },
    {
      "cell_type": "code",
      "execution_count": 3,
      "metadata": {
        "colab": {
          "base_uri": "https://localhost:8080/"
        },
        "id": "tyjlS_04FbwG",
        "outputId": "54859946-3659-4cd1-e146-af5e5c3af906"
      },
      "outputs": [
        {
          "output_type": "stream",
          "name": "stdout",
          "text": [
            "this is a list [2, 3, 4, 5]\n",
            "this is a array [2, 3, 4, 5]\n"
          ]
        }
      ],
      "source": [
        "import numpy as np\n",
        "import pandas as pd\n",
        "a=[2,3,4,5]\n",
        "print(\"this is a list\",a)\n",
        "array=np.array(a)\n",
        "print(\"this is a array\",a)"
      ]
    },
    {
      "cell_type": "code",
      "source": [
        "print(type(a))\n",
        "print(type(array))"
      ],
      "metadata": {
        "colab": {
          "base_uri": "https://localhost:8080/"
        },
        "id": "AZSRoJmWF_6p",
        "outputId": "9e9822f5-d4fb-4f1f-d393-6077f72e224a"
      },
      "execution_count": 4,
      "outputs": [
        {
          "output_type": "stream",
          "name": "stdout",
          "text": [
            "<class 'list'>\n",
            "<class 'numpy.ndarray'>\n"
          ]
        }
      ]
    },
    {
      "cell_type": "code",
      "source": [
        "multiply=array*2\n",
        "divide=array/2\n",
        "pow=array**2\n",
        "print(\"Multipliacation of array:\",multiply)\n",
        "print(\"Division of array:\",divide)\n",
        "print(\"Power result:\",pow)\n"
      ],
      "metadata": {
        "colab": {
          "base_uri": "https://localhost:8080/"
        },
        "id": "MjbIboEhGi9B",
        "outputId": "5c8e26cd-8871-4fab-8cff-eab7f477e6d2"
      },
      "execution_count": 6,
      "outputs": [
        {
          "output_type": "stream",
          "name": "stdout",
          "text": [
            "Multipliacation of array: [ 4  6  8 10]\n",
            "Division of array: [1.  1.5 2.  2.5]\n",
            "Power result: [ 4  9 16 25]\n"
          ]
        }
      ]
    },
    {
      "cell_type": "code",
      "source": [
        "array1=[2,4,6,8]\n",
        "array2=[1,3,5,7]\n",
        "print(array1+array2)"
      ],
      "metadata": {
        "colab": {
          "base_uri": "https://localhost:8080/"
        },
        "id": "GoKYC0Y-Hwe0",
        "outputId": "0d6c42be-cf69-4ab7-a2dc-f33987c2f39b"
      },
      "execution_count": 7,
      "outputs": [
        {
          "output_type": "stream",
          "name": "stdout",
          "text": [
            "[2, 4, 6, 8, 1, 3, 5, 7]\n"
          ]
        }
      ]
    },
    {
      "cell_type": "code",
      "source": [
        "sin=np.sin(array)\n",
        "print(\"sin:\",sin)\n",
        "log=np.log(array)\n",
        "print(\"log:\",log)\n",
        "log2=np.log2(array)\n",
        "print(\"log2:\",log2)\n",
        "exp=np.exp(array)\n",
        "print(\"exp:\",exp)"
      ],
      "metadata": {
        "colab": {
          "base_uri": "https://localhost:8080/"
        },
        "id": "w7yV8BjFIUoi",
        "outputId": "69fa95b0-895e-4202-f94a-0ba3cbaab328"
      },
      "execution_count": 8,
      "outputs": [
        {
          "output_type": "stream",
          "name": "stdout",
          "text": [
            "sin: [ 0.90929743  0.14112001 -0.7568025  -0.95892427]\n",
            "log: [0.69314718 1.09861229 1.38629436 1.60943791]\n",
            "log2: [1.         1.5849625  2.         2.32192809]\n",
            "exp: [  7.3890561   20.08553692  54.59815003 148.4131591 ]\n"
          ]
        }
      ]
    },
    {
      "cell_type": "code",
      "source": [],
      "metadata": {
        "id": "Y2tE2r-wJCXZ"
      },
      "execution_count": null,
      "outputs": []
    }
  ]
}